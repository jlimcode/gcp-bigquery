{
 "cells": [
  {
   "attachments": {},
   "cell_type": "markdown",
   "metadata": {
    "slideshow": {
     "slide_type": "slide"
    }
   },
   "source": [
    "\n",
    "![](./assets/bigquery.png)\n",
    "\n",
    "# Statistics 147 Final\n",
    "\n",
    "**By: Jason Lim**\n",
    "\n",
    "Winter 2023"
   ]
  },
  {
   "attachments": {},
   "cell_type": "markdown",
   "metadata": {
    "slideshow": {
     "slide_type": "slide"
    }
   },
   "source": [
    "## Data Warehouses\n",
    "\n",
    "> A data warehouse is an enterprise system used for the analysis and reporting of structured and semi-structured data from multiple sources [...] designed to give a long-range view of data over time, making it a primary component of business intelligence (1).\n",
    "\n",
    "- Production databases are optimized for small, real-time transactions, not large analytical queries. \n",
    "- Production databases are constantly changing and may be messy.\n",
    "\n",
    "### Cloud Data Warehouse\n",
    "- Flexible and scalable with low overhead\n",
    "- Tends to be faster. Size and scale of data centers hard to replicate.\n",
    "- Seamlessly connects to other cloud services\n",
    "- In the case of Google, easy to try ML and AI tools without leaving cloud (3)"
   ]
  },
  {
   "attachments": {},
   "cell_type": "markdown",
   "metadata": {
    "slideshow": {
     "slide_type": "slide"
    }
   },
   "source": [
    "## Google BigQuery\n",
    "\n",
    "### History\n",
    "As Google's data scaled, needed a tool to run fast SQL queries on massive datasets. Google invented Dremel, which it used internally for years. Dremel had \"unbelievable performance\" and was used extensively at Google.\n",
    "\n",
    "BigQuery was released in 2012 as public version of Dremel. Expanded to hosted, managed cloud-based structured storage provider (2).\n",
    "\n",
    "### Architecture\n",
    "- Uses slightly nonstandard flavor of SQL\n",
    "- Dremel parallelized SQL queries and scales horizontally. Not MapReduce (even faster)\n",
    "- Stores data across many parallel disks for faster reads. Columnar format.\n",
    "- Roughly ~50GB/sec. 95% of all queries on public clusters finish in <5 seconds"
   ]
  },
  {
   "attachments": {},
   "cell_type": "markdown",
   "metadata": {
    "slideshow": {
     "slide_type": "slide"
    }
   },
   "source": [
    "## Using Google BigQuery\n",
    "\n",
    "- Cloud Console\n",
    "  - Full GUI\n",
    "- Command line tool\n",
    "  - gcloud CLI \n",
    "  - Locally or in the cloud\n",
    "  - Good for headless setup\n",
    "- Client libraries\n",
    "  - C#, Go, Java, Node.js, PHP, Python, Ruby\n",
    "  - Best programmatic access"
   ]
  },
  {
   "attachments": {},
   "cell_type": "markdown",
   "metadata": {
    "slideshow": {
     "slide_type": "slide"
    }
   },
   "source": [
    "## Cloud Console: Adding Data\n",
    "\n",
    "<center><img src=\"./assets/gbq-load-file.png\" width=400px/></center>\n",
    "\n",
    "**Note**: Table size is limited to <10GB. Upload is even more constrained (can use Google Cloud Object Storage, or Drive for smaller objects)"
   ]
  },
  {
   "attachments": {},
   "cell_type": "markdown",
   "metadata": {
    "slideshow": {
     "slide_type": "slide"
    }
   },
   "source": [
    "## Cloud Console: Writing Queries\n",
    "\n",
    "<img src=\"./assets/gbq-cloud-queries.png\"/>\n",
    "\n",
    "- Convenient workspace for writing queries. Provides export options to Sheets, Looker Studio, and Colab\n",
    "- Preview of processing requirements"
   ]
  },
  {
   "attachments": {},
   "cell_type": "markdown",
   "metadata": {
    "slideshow": {
     "slide_type": "slide"
    }
   },
   "source": [
    "## Cloud Console: Public Datasets\n",
    "\n",
    "- Likely won't need to set up your own tables in practice\n",
    "- Public datasets are good for learning the software. Datasets are large and thus fully utilize the computation power behind BigQuery\n",
    "- Query output quota if 1TB/month for free accounts\n",
    "  - Use `LIMIT` to avoid running out!\n",
    "- Star the `bigquery-public-data` project \n",
    "\n",
    "<center><img src=\"./assets/gbq-public-data.png\"/></center>"
   ]
  },
  {
   "attachments": {},
   "cell_type": "markdown",
   "metadata": {
    "slideshow": {
     "slide_type": "slide"
    }
   },
   "source": [
    "## Connecting with `pandas`\n",
    "\n",
    "Install the dependency package `pandas-gbq`:\n",
    "\n",
    "```bash\n",
    "conda install pandas-gbq --channel conda-forge\n",
    "```\n",
    "Or:\n",
    "```bash \n",
    "pip install pandas-gbq -U\n",
    "```\n",
    " \n",
    "This will also install the package `pydata-google-auth` which contains helper functions for authenticating with Google Cloud (4)."
   ]
  },
  {
   "attachments": {},
   "cell_type": "markdown",
   "metadata": {
    "slideshow": {
     "slide_type": "slide"
    }
   },
   "source": [
    "## Authentication\n",
    "\n",
    "There are several options for authentication with Google. We'll use the most straightforward, which is to log in to your Google Account through a web browser. (This is supposedly built into `pandas.read_gbq` but it wasn't working for me)"
   ]
  },
  {
   "cell_type": "code",
   "execution_count": null,
   "metadata": {},
   "outputs": [],
   "source": [
    "import pydata_google_auth\n",
    "\n",
    "credentials = pydata_google_auth.get_user_credentials(\n",
    "    scopes=['https://www.googleapis.com/auth/cloud-platform', \n",
    "            # BigQuery and public datasets\n",
    "            'https://www.googleapis.com/auth/drive'], \n",
    "            # for a .csv stored in my Drive\n",
    "    credentials_cache=pydata_google_auth.cache.NOOP, \n",
    "        # no caching (helped me add scope)\n",
    "    use_local_webserver=True # launch a browser window\n",
    ")"
   ]
  },
  {
   "cell_type": "code",
   "execution_count": 6,
   "metadata": {},
   "outputs": [],
   "source": [
    "import pandas_gbq\n",
    "\n",
    "pandas_gbq.context.credentials = credentials\n",
    "pandas_gbq.context.project = \"lim-stats147-final\""
   ]
  },
  {
   "attachments": {},
   "cell_type": "markdown",
   "metadata": {},
   "source": [
    "By setting these variables, we avoid having to pass this information to every query."
   ]
  },
  {
   "attachments": {},
   "cell_type": "markdown",
   "metadata": {
    "slideshow": {
     "slide_type": "slide"
    }
   },
   "source": [
    "## Using `pandas_gbq`\n",
    "\n",
    "The function outputs a DataFrame with options to set index and a nice progress bar for longer queries. "
   ]
  },
  {
   "cell_type": "code",
   "execution_count": 7,
   "metadata": {},
   "outputs": [
    {
     "name": "stdout",
     "output_type": "stream",
     "text": [
      "Downloading: 100%|\u001b[32m██████████\u001b[0m|\n"
     ]
    },
    {
     "data": {
      "text/html": [
       "<div>\n",
       "<style scoped>\n",
       "    .dataframe tbody tr th:only-of-type {\n",
       "        vertical-align: middle;\n",
       "    }\n",
       "\n",
       "    .dataframe tbody tr th {\n",
       "        vertical-align: top;\n",
       "    }\n",
       "\n",
       "    .dataframe thead th {\n",
       "        text-align: right;\n",
       "    }\n",
       "</style>\n",
       "<table border=\"1\" class=\"dataframe\">\n",
       "  <thead>\n",
       "    <tr style=\"text-align: right;\">\n",
       "      <th></th>\n",
       "      <th>album</th>\n",
       "      <th>album_length</th>\n",
       "      <th>avg_loud</th>\n",
       "      <th>avg_duration</th>\n",
       "    </tr>\n",
       "  </thead>\n",
       "  <tbody>\n",
       "    <tr>\n",
       "      <th>0</th>\n",
       "      <td>Greatest Hits</td>\n",
       "      <td>1800</td>\n",
       "      <td>-9.761198</td>\n",
       "      <td>225428.820556</td>\n",
       "    </tr>\n",
       "    <tr>\n",
       "      <th>1</th>\n",
       "      <td>Live</td>\n",
       "      <td>872</td>\n",
       "      <td>-10.030528</td>\n",
       "      <td>282782.255734</td>\n",
       "    </tr>\n",
       "    <tr>\n",
       "      <th>2</th>\n",
       "      <td>The Collection</td>\n",
       "      <td>343</td>\n",
       "      <td>-9.923554</td>\n",
       "      <td>207181.166181</td>\n",
       "    </tr>\n",
       "    <tr>\n",
       "      <th>3</th>\n",
       "      <td>Love Songs</td>\n",
       "      <td>337</td>\n",
       "      <td>-11.054246</td>\n",
       "      <td>243122.839763</td>\n",
       "    </tr>\n",
       "    <tr>\n",
       "      <th>4</th>\n",
       "      <td>Super Hits</td>\n",
       "      <td>330</td>\n",
       "      <td>-10.112958</td>\n",
       "      <td>212088.118182</td>\n",
       "    </tr>\n",
       "  </tbody>\n",
       "</table>\n",
       "</div>"
      ],
      "text/plain": [
       "            album  album_length   avg_loud   avg_duration\n",
       "0   Greatest Hits          1800  -9.761198  225428.820556\n",
       "1            Live           872 -10.030528  282782.255734\n",
       "2  The Collection           343  -9.923554  207181.166181\n",
       "3      Love Songs           337 -11.054246  243122.839763\n",
       "4      Super Hits           330 -10.112958  212088.118182"
      ]
     },
     "execution_count": 7,
     "metadata": {},
     "output_type": "execute_result"
    }
   ],
   "source": [
    "pandas_gbq.read_gbq(\n",
    "    \"\"\"SELECT \n",
    "            album,\n",
    "            COUNT(name) as album_length,\n",
    "            AVG(loudness) as avg_loud,\n",
    "            AVG(duration_ms) as avg_duration,\n",
    "        FROM `lim-stats147-final.spotify_track.tracks` \n",
    "        GROUP BY album\n",
    "        ORDER BY album_length DESC\n",
    "        LIMIT 5\"\"\")"
   ]
  },
  {
   "attachments": {},
   "cell_type": "markdown",
   "metadata": {
    "slideshow": {
     "slide_type": "slide"
    }
   },
   "source": [
    "## Pandas Connectivity\n",
    "\n",
    "Borrows functionality from `pandas_gbq` but offers direct use in `pandas` without necessarily importing `pandas_gbq` (although it must be installed) (5).\n",
    "\n",
    "```python\n",
    "def read_gbq(\n",
    "    query: str,\n",
    "    project_id: str | None = None,\n",
    "    index_col: str | None = None,\n",
    "    col_order: list[str] | None = None,\n",
    "    reauth: bool = False,\n",
    "    auth_local_webserver: bool = True,\n",
    "    dialect: str | None = None,\n",
    "    location: str | None = None,\n",
    "    configuration: dict[str, Any] | None = None,\n",
    "    credentials=None,\n",
    "    use_bqstorage_api: bool | None = None,\n",
    "    max_results: int | None = None,\n",
    "    progress_bar_type: str | None = None,\n",
    ") -> DataFrame:\n",
    "```"
   ]
  },
  {
   "attachments": {},
   "cell_type": "markdown",
   "metadata": {
    "slideshow": {
     "slide_type": "slide"
    }
   },
   "source": [
    "## Example in Pandas"
   ]
  },
  {
   "cell_type": "code",
   "execution_count": 1,
   "metadata": {},
   "outputs": [],
   "source": [
    "import pandas as pd"
   ]
  },
  {
   "cell_type": "code",
   "execution_count": 9,
   "metadata": {},
   "outputs": [
    {
     "data": {
      "text/html": [
       "<div>\n",
       "<style scoped>\n",
       "    .dataframe tbody tr th:only-of-type {\n",
       "        vertical-align: middle;\n",
       "    }\n",
       "\n",
       "    .dataframe tbody tr th {\n",
       "        vertical-align: top;\n",
       "    }\n",
       "\n",
       "    .dataframe thead th {\n",
       "        text-align: right;\n",
       "    }\n",
       "</style>\n",
       "<table border=\"1\" class=\"dataframe\">\n",
       "  <thead>\n",
       "    <tr style=\"text-align: right;\">\n",
       "      <th></th>\n",
       "      <th>name</th>\n",
       "      <th>total</th>\n",
       "      <th>year</th>\n",
       "    </tr>\n",
       "  </thead>\n",
       "  <tbody>\n",
       "    <tr>\n",
       "      <th>0</th>\n",
       "      <td>Lillian</td>\n",
       "      <td>4120</td>\n",
       "      <td>1910</td>\n",
       "    </tr>\n",
       "    <tr>\n",
       "      <th>1</th>\n",
       "      <td>Ruby</td>\n",
       "      <td>2875</td>\n",
       "      <td>1910</td>\n",
       "    </tr>\n",
       "    <tr>\n",
       "      <th>2</th>\n",
       "      <td>Helen</td>\n",
       "      <td>10484</td>\n",
       "      <td>1910</td>\n",
       "    </tr>\n",
       "    <tr>\n",
       "      <th>3</th>\n",
       "      <td>Eunice</td>\n",
       "      <td>719</td>\n",
       "      <td>1910</td>\n",
       "    </tr>\n",
       "    <tr>\n",
       "      <th>4</th>\n",
       "      <td>Dora</td>\n",
       "      <td>806</td>\n",
       "      <td>1910</td>\n",
       "    </tr>\n",
       "  </tbody>\n",
       "</table>\n",
       "</div>"
      ],
      "text/plain": [
       "      name  total  year\n",
       "0  Lillian   4120  1910\n",
       "1     Ruby   2875  1910\n",
       "2    Helen  10484  1910\n",
       "3   Eunice    719  1910\n",
       "4     Dora    806  1910"
      ]
     },
     "execution_count": 9,
     "metadata": {},
     "output_type": "execute_result"
    }
   ],
   "source": [
    "\n",
    "pd.read_gbq(\n",
    "  \"\"\" SELECT name, SUM(number) AS total, year\n",
    "      FROM `bigquery-public-data.usa_names.usa_1910_2013`\n",
    "      GROUP BY name, year\n",
    "      LIMIT 5; \"\"\")\n"
   ]
  },
  {
   "attachments": {},
   "cell_type": "markdown",
   "metadata": {
    "slideshow": {
     "slide_type": "slide"
    }
   },
   "source": [
    "## Comparing BigQuery to Local Files on 350MB Data \n",
    "\n"
   ]
  },
  {
   "cell_type": "code",
   "execution_count": 3,
   "metadata": {},
   "outputs": [
    {
     "name": "stdout",
     "output_type": "stream",
     "text": [
      "CPU times: user 2.79 s, sys: 412 ms, total: 3.2 s\n",
      "Wall time: 3.44 s\n"
     ]
    }
   ],
   "source": [
    "%%time\n",
    "track_df = pd.read_csv(\"./tracks_features.csv\")\n",
    "track_props = track_df[['album_id', 'danceability', 'energy', 'loudness', 'speechiness', 'acousticness',\n",
    "       'instrumentalness', 'liveness', 'valence', 'tempo']]\n",
    "album_info = track_props.groupby('album_id').mean()"
   ]
  },
  {
   "cell_type": "code",
   "execution_count": 23,
   "metadata": {},
   "outputs": [
    {
     "name": "stdout",
     "output_type": "stream",
     "text": [
      "CPU times: user 1.76 s, sys: 1.2 s, total: 2.96 s\n",
      "Wall time: 44 s\n"
     ]
    }
   ],
   "source": [
    "%%time\n",
    "track_info = \"\"\"\n",
    "SELECT\n",
    "album_id,\n",
    "AVG(danceability), AVG(energy), AVG(loudness), AVG(speechiness), AVG(acousticness),\n",
    "AVG(instrumentalness), AVG(liveness), AVG(valence), AVG(tempo)\n",
    "FROM `lim-stats147-final.spotify_track.tracks` \n",
    "GROUP BY album_id\n",
    "\"\"\"\n",
    "track_gbq = pd.read_gbq(track_info, index_col='album_id')"
   ]
  },
  {
   "attachments": {},
   "cell_type": "markdown",
   "metadata": {
    "slideshow": {
     "slide_type": "slide"
    }
   },
   "source": [
    "## BigQuery: Slower for Medium-Sized Data\n",
    "\n",
    "While 350MB can be somewhat cumbersome, if the dataset can fit in memory on your local machine, analysis will naturally run faster locally than in the cloud. \n",
    "\n",
    "Note that BigQuery performed worse on this uploaded table than on public datasets. This is likely because public datasets have paid to be distributed across more machines, speeding up reads. Most of the delay in the query came from reading the data, which may still be stored primarily in Google Drive, accessed through a slower API than Google Cloud Storage Buckets."
   ]
  },
  {
   "attachments": {},
   "cell_type": "markdown",
   "metadata": {
    "slideshow": {
     "slide_type": "slide"
    }
   },
   "source": [
    "## Big Data Example: Weather\n",
    "\n",
    "Often in data analysis, you need to process a large set of data, take some aggregation to reduce its size, then perform analysis on the result.\n",
    "\n",
    "Here we'll query the `fh-bigquery.weather_gsod.all` table, which is 50GB that BigQuery can process in 1 second. Because BigQuery does intelligent partitioning and clustering on the table, our query only processes a couple GB."
   ]
  },
  {
   "cell_type": "code",
   "execution_count": 10,
   "metadata": {},
   "outputs": [],
   "source": [
    "max_min_temp = \"\"\"\n",
    "SELECT \n",
    "  year, \n",
    "  MAX(temp) as max_temp,\n",
    "  MIN(temp) as min_temp\n",
    "FROM `fh-bigquery.weather_gsod.all`\n",
    "WHERE EXTRACT(YEAR FROM date) > 1990 AND state = \"CA\"\n",
    "GROUP BY year\n",
    "ORDER BY year ASC;\n",
    "\"\"\""
   ]
  },
  {
   "cell_type": "code",
   "execution_count": 11,
   "metadata": {
    "slideshow": {
     "slide_type": "slide"
    }
   },
   "outputs": [
    {
     "data": {
      "text/html": [
       "<div>\n",
       "<style scoped>\n",
       "    .dataframe tbody tr th:only-of-type {\n",
       "        vertical-align: middle;\n",
       "    }\n",
       "\n",
       "    .dataframe tbody tr th {\n",
       "        vertical-align: top;\n",
       "    }\n",
       "\n",
       "    .dataframe thead th {\n",
       "        text-align: right;\n",
       "    }\n",
       "</style>\n",
       "<table border=\"1\" class=\"dataframe\">\n",
       "  <thead>\n",
       "    <tr style=\"text-align: right;\">\n",
       "      <th></th>\n",
       "      <th>year</th>\n",
       "      <th>max_temp</th>\n",
       "      <th>min_temp</th>\n",
       "    </tr>\n",
       "  </thead>\n",
       "  <tbody>\n",
       "    <tr>\n",
       "      <th>0</th>\n",
       "      <td>1991</td>\n",
       "      <td>107.3</td>\n",
       "      <td>14.6</td>\n",
       "    </tr>\n",
       "    <tr>\n",
       "      <th>1</th>\n",
       "      <td>1992</td>\n",
       "      <td>108.4</td>\n",
       "      <td>6.9</td>\n",
       "    </tr>\n",
       "    <tr>\n",
       "      <th>2</th>\n",
       "      <td>1993</td>\n",
       "      <td>108.6</td>\n",
       "      <td>-1.4</td>\n",
       "    </tr>\n",
       "    <tr>\n",
       "      <th>3</th>\n",
       "      <td>1994</td>\n",
       "      <td>109.9</td>\n",
       "      <td>5.5</td>\n",
       "    </tr>\n",
       "    <tr>\n",
       "      <th>4</th>\n",
       "      <td>1995</td>\n",
       "      <td>109.6</td>\n",
       "      <td>2.7</td>\n",
       "    </tr>\n",
       "  </tbody>\n",
       "</table>\n",
       "</div>"
      ],
      "text/plain": [
       "   year  max_temp  min_temp\n",
       "0  1991     107.3      14.6\n",
       "1  1992     108.4       6.9\n",
       "2  1993     108.6      -1.4\n",
       "3  1994     109.9       5.5\n",
       "4  1995     109.6       2.7"
      ]
     },
     "execution_count": 11,
     "metadata": {},
     "output_type": "execute_result"
    }
   ],
   "source": [
    "temp_df = pd.read_gbq(max_min_temp)\n",
    "temp_df.head()"
   ]
  },
  {
   "cell_type": "code",
   "execution_count": 12,
   "metadata": {
    "slideshow": {
     "slide_type": "slide"
    }
   },
   "outputs": [
    {
     "data": {
      "image/png": "[encoded data removed]",
      "text/plain": [
       "<Figure size 640x480 with 1 Axes>"
      ]
     },
     "metadata": {},
     "output_type": "display_data"
    }
   ],
   "source": [
    "import matplotlib.pyplot as plt\n",
    "\n",
    "plt.plot(temp_df.year, temp_df.max_temp, c=\"red\", label=\"Maximum Temperature\")\n",
    "plt.plot(temp_df.year, temp_df.min_temp, c=\"blue\", label=\"Minimum Temperature\")\n",
    "plt.xticks(ticks=temp_df.year, labels=temp_df.year, rotation=45)\n",
    "plt.legend()\n",
    "plt.title(\"Changes in Temperature Extremes in CA 1991-2020\")\n",
    "plt.show()"
   ]
  },
  {
   "attachments": {},
   "cell_type": "markdown",
   "metadata": {
    "slideshow": {
     "slide_type": "slide"
    }
   },
   "source": [
    "## Machine Learning in BigQuery\n",
    "\n",
    "BigQuery has built-in machine learning methods for quick application to large datasets (6). The following query creates a logistic classification model:\n",
    "\n",
    "```sql\n",
    "#standardSQL\n",
    "CREATE MODEL `bqml_tutorial.sample_model`\n",
    "OPTIONS(model_type='logistic_reg') AS\n",
    "SELECT\n",
    "  IF(totals.transactions IS NULL, 0, 1) AS label,\n",
    "  IFNULL(device.operatingSystem, \"\") AS os,\n",
    "  device.isMobile AS is_mobile,\n",
    "  IFNULL(geoNetwork.country, \"\") AS country,\n",
    "  IFNULL(totals.pageviews, 0) AS pageviews\n",
    "FROM\n",
    "  `bigquery-public-data.google_analytics_sample.ga_sessions_*`\n",
    "WHERE\n",
    "  _TABLE_SUFFIX BETWEEN '20160801' AND '20170630'\n",
    "```\n",
    "**Note**: `bqml_tutorial` refers to the new dataset I created in my project for this example. "
   ]
  },
  {
   "attachments": {},
   "cell_type": "markdown",
   "metadata": {
    "slideshow": {
     "slide_type": "slide"
    }
   },
   "source": [
    "## Model Training Overview\n",
    "\n",
    "![training output](./assets/gbq-ml-training.png)"
   ]
  },
  {
   "attachments": {},
   "cell_type": "markdown",
   "metadata": {
    "slideshow": {
     "slide_type": "slide"
    }
   },
   "source": [
    "## Evaluate Machine Learning Model"
   ]
  },
  {
   "cell_type": "code",
   "execution_count": 7,
   "metadata": {},
   "outputs": [
    {
     "data": {
      "text/html": [
       "<div>\n",
       "<style scoped>\n",
       "    .dataframe tbody tr th:only-of-type {\n",
       "        vertical-align: middle;\n",
       "    }\n",
       "\n",
       "    .dataframe tbody tr th {\n",
       "        vertical-align: top;\n",
       "    }\n",
       "\n",
       "    .dataframe thead th {\n",
       "        text-align: right;\n",
       "    }\n",
       "</style>\n",
       "<table border=\"1\" class=\"dataframe\">\n",
       "  <thead>\n",
       "    <tr style=\"text-align: right;\">\n",
       "      <th></th>\n",
       "      <th>precision</th>\n",
       "      <th>recall</th>\n",
       "      <th>accuracy</th>\n",
       "      <th>f1_score</th>\n",
       "      <th>log_loss</th>\n",
       "      <th>roc_auc</th>\n",
       "    </tr>\n",
       "  </thead>\n",
       "  <tbody>\n",
       "    <tr>\n",
       "      <th>0</th>\n",
       "      <td>0.468504</td>\n",
       "      <td>0.110801</td>\n",
       "      <td>0.985343</td>\n",
       "      <td>0.179217</td>\n",
       "      <td>0.046242</td>\n",
       "      <td>0.981742</td>\n",
       "    </tr>\n",
       "  </tbody>\n",
       "</table>\n",
       "</div>"
      ],
      "text/plain": [
       "   precision    recall  accuracy  f1_score  log_loss   roc_auc\n",
       "0   0.468504  0.110801  0.985343  0.179217  0.046242  0.981742"
      ]
     },
     "execution_count": 7,
     "metadata": {},
     "output_type": "execute_result"
    }
   ],
   "source": [
    "evaluate = \"\"\"\n",
    "#standardSQL\n",
    "SELECT\n",
    "  *\n",
    "FROM\n",
    "  ML.EVALUATE(MODEL `bqml_tutorial.sample_model`, (\n",
    "SELECT\n",
    "  IF(totals.transactions IS NULL, 0, 1) AS label,\n",
    "  IFNULL(device.operatingSystem, \"\") AS os,\n",
    "  device.isMobile AS is_mobile,\n",
    "  IFNULL(geoNetwork.country, \"\") AS country,\n",
    "  IFNULL(totals.pageviews, 0) AS pageviews\n",
    "FROM\n",
    "  `bigquery-public-data.google_analytics_sample.ga_sessions_*`\n",
    "WHERE\n",
    "  _TABLE_SUFFIX BETWEEN '20170701' AND '20170801'))\n",
    "\"\"\"\n",
    "\n",
    "pd.read_gbq(evaluate)"
   ]
  },
  {
   "attachments": {},
   "cell_type": "markdown",
   "metadata": {
    "slideshow": {
     "slide_type": "slide"
    }
   },
   "source": [
    "## ML Model Predictions"
   ]
  },
  {
   "cell_type": "code",
   "execution_count": 37,
   "metadata": {},
   "outputs": [
    {
     "data": {
      "text/html": [
       "<div>\n",
       "<style scoped>\n",
       "    .dataframe tbody tr th:only-of-type {\n",
       "        vertical-align: middle;\n",
       "    }\n",
       "\n",
       "    .dataframe tbody tr th {\n",
       "        vertical-align: top;\n",
       "    }\n",
       "\n",
       "    .dataframe thead th {\n",
       "        text-align: right;\n",
       "    }\n",
       "</style>\n",
       "<table border=\"1\" class=\"dataframe\">\n",
       "  <thead>\n",
       "    <tr style=\"text-align: right;\">\n",
       "      <th></th>\n",
       "      <th>country</th>\n",
       "      <th>total_predicted_purchases</th>\n",
       "    </tr>\n",
       "  </thead>\n",
       "  <tbody>\n",
       "    <tr>\n",
       "      <th>0</th>\n",
       "      <td>United States</td>\n",
       "      <td>220</td>\n",
       "    </tr>\n",
       "    <tr>\n",
       "      <th>1</th>\n",
       "      <td>Taiwan</td>\n",
       "      <td>8</td>\n",
       "    </tr>\n",
       "    <tr>\n",
       "      <th>2</th>\n",
       "      <td>Canada</td>\n",
       "      <td>7</td>\n",
       "    </tr>\n",
       "    <tr>\n",
       "      <th>3</th>\n",
       "      <td>Turkey</td>\n",
       "      <td>2</td>\n",
       "    </tr>\n",
       "    <tr>\n",
       "      <th>4</th>\n",
       "      <td>India</td>\n",
       "      <td>2</td>\n",
       "    </tr>\n",
       "  </tbody>\n",
       "</table>\n",
       "</div>"
      ],
      "text/plain": [
       "         country  total_predicted_purchases\n",
       "0  United States                        220\n",
       "1         Taiwan                          8\n",
       "2         Canada                          7\n",
       "3         Turkey                          2\n",
       "4          India                          2"
      ]
     },
     "execution_count": 37,
     "metadata": {},
     "output_type": "execute_result"
    }
   ],
   "source": [
    "get_pred = \"\"\"\n",
    "SELECT\n",
    "  country,\n",
    "  SUM(predicted_label) as total_predicted_purchases\n",
    "FROM\n",
    "  ML.PREDICT(MODEL `bqml_tutorial.sample_model`, (\n",
    "SELECT\n",
    "  IFNULL(device.operatingSystem, \"\") AS os,\n",
    "  device.isMobile AS is_mobile,\n",
    "  IFNULL(totals.pageviews, 0) AS pageviews,\n",
    "  IFNULL(geoNetwork.country, \"\") AS country\n",
    "FROM `bigquery-public-data.google_analytics_sample.ga_sessions_*`\n",
    "WHERE _TABLE_SUFFIX BETWEEN '20170701' AND '20170801'))\n",
    "GROUP BY country\n",
    "ORDER BY total_predicted_purchases DESC\n",
    "LIMIT 5\"\"\"\n",
    "pd.read_gbq(get_pred)"
   ]
  },
  {
   "attachments": {},
   "cell_type": "markdown",
   "metadata": {
    "slideshow": {
     "slide_type": "slide"
    }
   },
   "source": [
    "## Comparison to Local - Fitting"
   ]
  },
  {
   "cell_type": "code",
   "execution_count": 35,
   "metadata": {},
   "outputs": [
    {
     "name": "stdout",
     "output_type": "stream",
     "text": [
      "CPU times: user 5.05 s, sys: 971 ms, total: 6.03 s\n",
      "Wall time: 35.2 s\n"
     ]
    }
   ],
   "source": [
    "%%time\n",
    "get_training_data = \"\"\"\n",
    "SELECT\n",
    "  IF(totals.transactions IS NULL, 0, 1) AS label,\n",
    "  IFNULL(device.operatingSystem, \"\") AS os,\n",
    "  device.isMobile AS is_mobile,\n",
    "  IFNULL(geoNetwork.country, \"\") AS country,\n",
    "  IFNULL(totals.pageviews, 0) AS pageviews\n",
    "FROM\n",
    "  `bigquery-public-data.google_analytics_sample.ga_sessions_*`\n",
    "WHERE\n",
    "  _TABLE_SUFFIX BETWEEN '20160801' AND '20170630'\n",
    "\"\"\"\n",
    "\n",
    "train_data = pd.read_gbq(get_training_data)"
   ]
  },
  {
   "cell_type": "code",
   "execution_count": 41,
   "metadata": {
    "slideshow": {
     "slide_type": "slide"
    }
   },
   "outputs": [
    {
     "name": "stdout",
     "output_type": "stream",
     "text": [
      "CPU times: user 5.21 s, sys: 297 ms, total: 5.51 s\n",
      "Wall time: 5.55 s\n"
     ]
    },
    {
     "data": {
      "text/plain": [
       "0.9875061046564209"
      ]
     },
     "execution_count": 41,
     "metadata": {},
     "output_type": "execute_result"
    }
   ],
   "source": [
    "%%time\n",
    "from sklearn.preprocessing import OneHotEncoder\n",
    "from sklearn.linear_model import LogisticRegression\n",
    "\n",
    "y = train_data.pop('label').to_numpy().astype('int')\n",
    "enc = OneHotEncoder()\n",
    "X = enc.fit_transform(train_data)\n",
    "\n",
    "glm = LogisticRegression(max_iter=500)\n",
    "glm.fit(X, y)\n",
    "\n",
    "glm.score(X, y)"
   ]
  },
  {
   "attachments": {},
   "cell_type": "markdown",
   "metadata": {},
   "source": [
    "The cloud console query took 3 minutes to fit the model, so it's faster to run locally but the cloud version would scale to larger datasets. Also the cloud version required no overhead or other technical know-how.\n",
    "\n",
    "**Note:** The BigQuery ML default does not use class weights, even when classes are clearly imbalanced."
   ]
  },
  {
   "attachments": {},
   "cell_type": "markdown",
   "metadata": {
    "slideshow": {
     "slide_type": "slide"
    }
   },
   "source": [
    "## Summary and Recommendation\n",
    "\n",
    "- BigQuery is a **cloud data warehouse** that stores structured data and can be queried efficiently.\n",
    "- **Scales horizontally**, so large datasets work just as well as smaller datasets.\n",
    "- Can connect to multiple data sources and schedule scripts for automated data pipelines.\n",
    "- Connects to several Google analysis pipelines such as Looker Studio, Colab, and Sheets. \n",
    "- BigQuery (and Google Cloud in general) has good community package support for working with APIs programmatically.\n",
    "- The service is priced by analysis (amount of data scanned by queries) and storage (amount of data kept in BigQuery) (7).\n",
    "\n",
    "\n",
    "### Recommendation\n",
    "\n",
    "Google BigQuery is an appealing choice for **customers in the Google Cloud Products ecosystem**. The main competitors are **AWS Redshift** and **Snowflake** (8). Redshift is currently the most popular and Snowflake is the fastest growing. For customers not already using GCP, BigQuery could be a good choice for workflows that will utilize Google's industry-leading **machine learning capabilities**."
   ]
  },
  {
   "attachments": {},
   "cell_type": "markdown",
   "metadata": {
    "slideshow": {
     "slide_type": "slide"
    }
   },
   "source": [
    "## Further Resources \n",
    "\n",
    " - Book: Tigani, Jordan., Naidu, Siddartha. Google BigQuery Analytics. Germany: Wiley, 2014. (Available through UC access to O-Reilly Online)\n",
    " - Google overview and pricing: https://cloud.google.com/bigquery  \n",
    " - Google Quickstarts: https://cloud.google.com/bigquery/docs/quickstarts\n",
    "   - Public datasets: https://cloud.google.com/bigquery/docs/quickstarts/query-public-dataset-console\n",
    "   - Create table: https://cloud.google.com/bigquery/docs/quickstarts/load-data-console\n",
    "   - BigQuery ML: https://cloud.google.com/bigquery-ml/docs/create-machine-learning-model \n",
    " - `pandas_gbq` documentation: https://pandas-gbq.readthedocs.io/en/latest/index.html\n",
    " - BigQuery ML Example by Fireship: https://www.youtube.com/watch?v=ajTp60neMlc "
   ]
  },
  {
   "attachments": {},
   "cell_type": "markdown",
   "metadata": {
    "slideshow": {
     "slide_type": "slide"
    }
   },
   "source": [
    "## References\n",
    "\n",
    "1. https://cloud.google.com/learn/what-is-a-data-warehouse \n",
    "2. Tigani, Jordan., Naidu, Siddartha. Google BigQuery Analytics. Germany: Wiley, 2014.\n",
    "3. https://cloud.google.com/bigquery \n",
    "4. https://pandas-gbq.readthedocs.io/en/latest/index.html\n",
    "5. https://pandas.pydata.org/docs/reference/api/pandas.read_gbq.html \n",
    "6. https://cloud.google.com/bigquery-ml/docs/create-machine-learning-model\n",
    "7. https://cloud.google.com/bigquery/pricing  \n",
    "8. https://medium.com/2359media/redshift-vs-bigquery-vs-snowflake-a-comparison-of-the-most-popular-data-warehouse-for-data-driven-cb1c10ac8555 "
   ]
  }
 ],
 "metadata": {
  "kernelspec": {
   "display_name": "base",
   "language": "python",
   "name": "python3"
  },
  "language_info": {
   "codemirror_mode": {
    "name": "ipython",
    "version": 3
   },
   "file_extension": ".py",
   "mimetype": "text/x-python",
   "name": "python",
   "nbconvert_exporter": "python",
   "pygments_lexer": "ipython3",
   "version": "3.9.16"
  },
  "orig_nbformat": 4,
  "vscode": {
   "interpreter": {
    "hash": "38cca0c38332a56087b24af0bc80247f4fced29cb4f7f437d91dc159adec9c4e"
   }
  }
 },
 "nbformat": 4,
 "nbformat_minor": 2
}
